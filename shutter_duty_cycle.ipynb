{
 "cells": [
  {
   "cell_type": "code",
   "execution_count": 1,
   "metadata": {
    "pycharm": {
     "is_executing": false
    }
   },
   "outputs": [],
   "source": [
    "from fetchaashutterdata import *\n"
   ]
  },
  {
   "cell_type": "markdown",
   "metadata": {},
   "source": [
    "First a very basic sanity check. It actually wraps up and runs all of the interesting functions in one go and prints a simplified duty cycle report."
   ]
  },
  {
   "cell_type": "code",
   "execution_count": 2,
   "metadata": {
    "pycharm": {
     "is_executing": false
    }
   },
   "outputs": [
    {
     "name": "stdout",
     "text": [
      "['/bl_shtr1', '/bl_shtr2', '/bl_shtr3', '/fe_shtr1', '/fe_shtr2']\nPeriod from: 2019-08-22 16:49:37.483399+00:00 to: 2019-10-23 23:58:22.610701+00:00\nMachine shutters open:  36 days 20:02:17.243069 (72137 seconds)\nBeamline shutters open: 24 days 06:06:19.744111 (21979 seconds)\nBL use of available beam: 0.6584619704529145\n"
     ],
     "output_type": "stream"
    }
   ],
   "source": [
    "duty_cycle_report('data/i12-shutters.h5')"
   ]
  },
  {
   "cell_type": "markdown",
   "metadata": {},
   "source": [
    "Going through individual steps...\n",
    "First load the data from hdf5 file and process it into a simple-to-use data store. We could also get the data from archive, but this works when offline.\n",
    "The `df` is a pandas DataFrame object with 8 columns. All of the events from the archive of all of the shutters have been merged together. The `NaN` in the shutters are because the events (obviously) don't line up nicely in time. \n",
    "The three right-hand columns are combined logic between the real shutter status."
   ]
  },
  {
   "cell_type": "code",
   "execution_count": 3,
   "metadata": {
    "pycharm": {
     "is_executing": false
    }
   },
   "outputs": [
    {
     "name": "stdout",
     "text": [
      "['/bl_shtr1', '/bl_shtr2', '/bl_shtr3', '/fe_shtr1', '/fe_shtr2']\n"
     ],
     "output_type": "stream"
    },
    {
     "data": {
      "text/plain": "                                  bl_shtr1  bl_shtr2  bl_shtr3  fe_shtr1  \\\n2019-08-22 16:49:37.483399+00:00       3.0       NaN       NaN       NaN   \n2019-08-22 16:49:37.613919+00:00       3.0       3.0       NaN       NaN   \n2019-08-22 16:49:38.487240+00:00       3.0       3.0       3.0       NaN   \n2019-08-23 10:57:53.676697+00:00       3.0       3.0       3.0       NaN   \n2019-08-29 17:55:22.861541+00:00       3.0       3.0       3.0       3.0   \n...                                    ...       ...       ...       ...   \n2019-10-23 23:54:15.628341+00:00       1.0       1.0       3.0       1.0   \n2019-10-23 23:58:14.678588+00:00       1.0       4.0       3.0       1.0   \n2019-10-23 23:58:16.601331+00:00       1.0       3.0       3.0       1.0   \n2019-10-23 23:58:19.734643+00:00       1.0       2.0       3.0       1.0   \n2019-10-23 23:58:22.610701+00:00       1.0       1.0       3.0       1.0   \n\n                                  fe_shtr2  machine_shutter  \\\n2019-08-22 16:49:37.483399+00:00       NaN            False   \n2019-08-22 16:49:37.613919+00:00       NaN            False   \n2019-08-22 16:49:38.487240+00:00       NaN            False   \n2019-08-23 10:57:53.676697+00:00       3.0            False   \n2019-08-29 17:55:22.861541+00:00       3.0            False   \n...                                    ...              ...   \n2019-10-23 23:54:15.628341+00:00       1.0             True   \n2019-10-23 23:58:14.678588+00:00       1.0             True   \n2019-10-23 23:58:16.601331+00:00       1.0             True   \n2019-10-23 23:58:19.734643+00:00       1.0             True   \n2019-10-23 23:58:22.610701+00:00       1.0             True   \n\n                                  beamline_shutters  all_shutters  \n2019-08-22 16:49:37.483399+00:00              False         False  \n2019-08-22 16:49:37.613919+00:00              False         False  \n2019-08-22 16:49:38.487240+00:00              False         False  \n2019-08-23 10:57:53.676697+00:00              False         False  \n2019-08-29 17:55:22.861541+00:00              False         False  \n...                                             ...           ...  \n2019-10-23 23:54:15.628341+00:00               True          True  \n2019-10-23 23:58:14.678588+00:00              False         False  \n2019-10-23 23:58:16.601331+00:00              False         False  \n2019-10-23 23:58:19.734643+00:00              False         False  \n2019-10-23 23:58:22.610701+00:00               True          True  \n\n[8692 rows x 8 columns]",
      "text/html": "<div>\n<style scoped>\n    .dataframe tbody tr th:only-of-type {\n        vertical-align: middle;\n    }\n\n    .dataframe tbody tr th {\n        vertical-align: top;\n    }\n\n    .dataframe thead th {\n        text-align: right;\n    }\n</style>\n<table border=\"1\" class=\"dataframe\">\n  <thead>\n    <tr style=\"text-align: right;\">\n      <th></th>\n      <th>bl_shtr1</th>\n      <th>bl_shtr2</th>\n      <th>bl_shtr3</th>\n      <th>fe_shtr1</th>\n      <th>fe_shtr2</th>\n      <th>machine_shutter</th>\n      <th>beamline_shutters</th>\n      <th>all_shutters</th>\n    </tr>\n  </thead>\n  <tbody>\n    <tr>\n      <th>2019-08-22 16:49:37.483399+00:00</th>\n      <td>3.0</td>\n      <td>NaN</td>\n      <td>NaN</td>\n      <td>NaN</td>\n      <td>NaN</td>\n      <td>False</td>\n      <td>False</td>\n      <td>False</td>\n    </tr>\n    <tr>\n      <th>2019-08-22 16:49:37.613919+00:00</th>\n      <td>3.0</td>\n      <td>3.0</td>\n      <td>NaN</td>\n      <td>NaN</td>\n      <td>NaN</td>\n      <td>False</td>\n      <td>False</td>\n      <td>False</td>\n    </tr>\n    <tr>\n      <th>2019-08-22 16:49:38.487240+00:00</th>\n      <td>3.0</td>\n      <td>3.0</td>\n      <td>3.0</td>\n      <td>NaN</td>\n      <td>NaN</td>\n      <td>False</td>\n      <td>False</td>\n      <td>False</td>\n    </tr>\n    <tr>\n      <th>2019-08-23 10:57:53.676697+00:00</th>\n      <td>3.0</td>\n      <td>3.0</td>\n      <td>3.0</td>\n      <td>NaN</td>\n      <td>3.0</td>\n      <td>False</td>\n      <td>False</td>\n      <td>False</td>\n    </tr>\n    <tr>\n      <th>2019-08-29 17:55:22.861541+00:00</th>\n      <td>3.0</td>\n      <td>3.0</td>\n      <td>3.0</td>\n      <td>3.0</td>\n      <td>3.0</td>\n      <td>False</td>\n      <td>False</td>\n      <td>False</td>\n    </tr>\n    <tr>\n      <th>...</th>\n      <td>...</td>\n      <td>...</td>\n      <td>...</td>\n      <td>...</td>\n      <td>...</td>\n      <td>...</td>\n      <td>...</td>\n      <td>...</td>\n    </tr>\n    <tr>\n      <th>2019-10-23 23:54:15.628341+00:00</th>\n      <td>1.0</td>\n      <td>1.0</td>\n      <td>3.0</td>\n      <td>1.0</td>\n      <td>1.0</td>\n      <td>True</td>\n      <td>True</td>\n      <td>True</td>\n    </tr>\n    <tr>\n      <th>2019-10-23 23:58:14.678588+00:00</th>\n      <td>1.0</td>\n      <td>4.0</td>\n      <td>3.0</td>\n      <td>1.0</td>\n      <td>1.0</td>\n      <td>True</td>\n      <td>False</td>\n      <td>False</td>\n    </tr>\n    <tr>\n      <th>2019-10-23 23:58:16.601331+00:00</th>\n      <td>1.0</td>\n      <td>3.0</td>\n      <td>3.0</td>\n      <td>1.0</td>\n      <td>1.0</td>\n      <td>True</td>\n      <td>False</td>\n      <td>False</td>\n    </tr>\n    <tr>\n      <th>2019-10-23 23:58:19.734643+00:00</th>\n      <td>1.0</td>\n      <td>2.0</td>\n      <td>3.0</td>\n      <td>1.0</td>\n      <td>1.0</td>\n      <td>True</td>\n      <td>False</td>\n      <td>False</td>\n    </tr>\n    <tr>\n      <th>2019-10-23 23:58:22.610701+00:00</th>\n      <td>1.0</td>\n      <td>1.0</td>\n      <td>3.0</td>\n      <td>1.0</td>\n      <td>1.0</td>\n      <td>True</td>\n      <td>True</td>\n      <td>True</td>\n    </tr>\n  </tbody>\n</table>\n<p>8692 rows × 8 columns</p>\n</div>"
     },
     "metadata": {},
     "output_type": "execute_result",
     "execution_count": 3
    }
   ],
   "source": [
    "df = load_process_shutter_data('data/i12-shutters.h5')\n",
    "df"
   ]
  },
  {
   "cell_type": "code",
   "execution_count": 4,
   "metadata": {
    "pycharm": {
     "is_executing": false
    }
   },
   "outputs": [
    {
     "data": {
      "text/plain": "                                          period  state\n2019-09-03 09:20:47.660201+00:00 00:11:15.050167   True\n2019-09-03 09:32:02.710368+00:00 00:31:02.946352  False\n2019-09-03 10:03:05.656720+00:00 00:10:55.825046   True\n2019-09-03 10:14:01.481766+00:00 00:10:47.168952  False\n2019-09-03 10:24:48.650718+00:00 00:00:34.948540   True\n...                                          ...    ...\n2019-10-23 23:50:08.601954+00:00 00:04:00.003168   True\n2019-10-23 23:54:08.605122+00:00 00:00:07.023219  False\n2019-10-23 23:54:15.628341+00:00 00:03:59.050247   True\n2019-10-23 23:58:14.678588+00:00 00:00:07.932113  False\n2019-10-23 23:58:22.610701+00:00             NaT   True\n\n[3951 rows x 2 columns]",
      "text/html": "<div>\n<style scoped>\n    .dataframe tbody tr th:only-of-type {\n        vertical-align: middle;\n    }\n\n    .dataframe tbody tr th {\n        vertical-align: top;\n    }\n\n    .dataframe thead th {\n        text-align: right;\n    }\n</style>\n<table border=\"1\" class=\"dataframe\">\n  <thead>\n    <tr style=\"text-align: right;\">\n      <th></th>\n      <th>period</th>\n      <th>state</th>\n    </tr>\n  </thead>\n  <tbody>\n    <tr>\n      <th>2019-09-03 09:20:47.660201+00:00</th>\n      <td>00:11:15.050167</td>\n      <td>True</td>\n    </tr>\n    <tr>\n      <th>2019-09-03 09:32:02.710368+00:00</th>\n      <td>00:31:02.946352</td>\n      <td>False</td>\n    </tr>\n    <tr>\n      <th>2019-09-03 10:03:05.656720+00:00</th>\n      <td>00:10:55.825046</td>\n      <td>True</td>\n    </tr>\n    <tr>\n      <th>2019-09-03 10:14:01.481766+00:00</th>\n      <td>00:10:47.168952</td>\n      <td>False</td>\n    </tr>\n    <tr>\n      <th>2019-09-03 10:24:48.650718+00:00</th>\n      <td>00:00:34.948540</td>\n      <td>True</td>\n    </tr>\n    <tr>\n      <th>...</th>\n      <td>...</td>\n      <td>...</td>\n    </tr>\n    <tr>\n      <th>2019-10-23 23:50:08.601954+00:00</th>\n      <td>00:04:00.003168</td>\n      <td>True</td>\n    </tr>\n    <tr>\n      <th>2019-10-23 23:54:08.605122+00:00</th>\n      <td>00:00:07.023219</td>\n      <td>False</td>\n    </tr>\n    <tr>\n      <th>2019-10-23 23:54:15.628341+00:00</th>\n      <td>00:03:59.050247</td>\n      <td>True</td>\n    </tr>\n    <tr>\n      <th>2019-10-23 23:58:14.678588+00:00</th>\n      <td>00:00:07.932113</td>\n      <td>False</td>\n    </tr>\n    <tr>\n      <th>2019-10-23 23:58:22.610701+00:00</th>\n      <td>NaT</td>\n      <td>True</td>\n    </tr>\n  </tbody>\n</table>\n<p>3951 rows × 2 columns</p>\n</div>"
     },
     "metadata": {},
     "output_type": "execute_result",
     "execution_count": 4
    }
   ],
   "source": [
    "periods_all_shutters_open = get_delta_times(df['all_shutters'])\n",
    "periods_all_shutters_open\n"
   ]
  },
  {
   "cell_type": "code",
   "execution_count": 5,
   "metadata": {
    "pycharm": {
     "is_executing": false
    }
   },
   "outputs": [
    {
     "data": {
      "text/plain": "                                                 period  state\n2019-09-03 07:38:06.745579+00:00 0 days 01:01:09.173324   True\n2019-09-03 08:39:15.918903+00:00 0 days 00:00:21.848803  False\n2019-09-03 08:39:37.767706+00:00 1 days 03:45:16.017721   True\n2019-09-04 12:24:53.785427+00:00 0 days 00:50:12.168657  False\n2019-09-04 13:15:05.954084+00:00 2 days 17:29:16.799751   True\n2019-09-07 06:44:22.753835+00:00 0 days 01:43:17.047464  False\n2019-09-07 08:27:39.801299+00:00 0 days 01:17:29.942821   True\n2019-09-07 09:45:09.744120+00:00 0 days 03:07:13.057181  False\n2019-09-07 12:52:22.801301+00:00 0 days 00:37:07.881825   True\n2019-09-07 13:29:30.683126+00:00 0 days 01:10:50.088300  False\n2019-09-07 14:40:20.771426+00:00 2 days 17:20:18.109962   True\n2019-09-10 08:00:38.881388+00:00 0 days 23:17:20.041198  False\n2019-09-11 07:17:58.922586+00:00 6 days 00:42:14.906382   True\n2019-09-17 08:00:13.828968+00:00 0 days 22:30:57.021316  False\n2019-09-18 06:31:10.850284+00:00 6 days 01:28:55.011479   True\n2019-09-24 08:00:05.861763+00:00 0 days 23:49:32.004376  False\n2019-09-25 07:49:37.866139+00:00 6 days 00:10:53.036337   True\n2019-10-01 08:00:30.902476+00:00 1 days 00:21:08.053734  False\n2019-10-02 08:21:38.956210+00:00 2 days 14:18:36.912475   True\n2019-10-04 22:40:15.868685+00:00 0 days 00:59:52.998940  False\n2019-10-04 23:40:08.867625+00:00 0 days 00:12:18.848397   True\n2019-10-04 23:52:27.716022+00:00 0 days 03:22:19.228771  False\n2019-10-05 03:14:46.944793+00:00 3 days 04:12:20.800516   True\n2019-10-08 07:27:07.745309+00:00 0 days 23:15:03.143793  False\n2019-10-09 06:42:10.889102+00:00 4 days 18:23:32.837764   True\n2019-10-14 01:05:43.726866+00:00 0 days 01:05:28.123605  False\n2019-10-14 02:11:11.850471+00:00 1 days 05:48:53.920018   True\n2019-10-15 08:00:05.770489+00:00 0 days 23:31:45.998553  False\n2019-10-16 07:31:51.769042+00:00 0 days 00:02:22.990729   True\n2019-10-16 07:34:14.759771+00:00 0 days 01:28:58.046356  False\n2019-10-16 09:03:12.806127+00:00 0 days 05:11:30.053568   True\n2019-10-16 14:14:42.859695+00:00 0 days 00:45:54.042362  False\n2019-10-16 15:00:36.902057+00:00                    NaT   True",
      "text/html": "<div>\n<style scoped>\n    .dataframe tbody tr th:only-of-type {\n        vertical-align: middle;\n    }\n\n    .dataframe tbody tr th {\n        vertical-align: top;\n    }\n\n    .dataframe thead th {\n        text-align: right;\n    }\n</style>\n<table border=\"1\" class=\"dataframe\">\n  <thead>\n    <tr style=\"text-align: right;\">\n      <th></th>\n      <th>period</th>\n      <th>state</th>\n    </tr>\n  </thead>\n  <tbody>\n    <tr>\n      <th>2019-09-03 07:38:06.745579+00:00</th>\n      <td>0 days 01:01:09.173324</td>\n      <td>True</td>\n    </tr>\n    <tr>\n      <th>2019-09-03 08:39:15.918903+00:00</th>\n      <td>0 days 00:00:21.848803</td>\n      <td>False</td>\n    </tr>\n    <tr>\n      <th>2019-09-03 08:39:37.767706+00:00</th>\n      <td>1 days 03:45:16.017721</td>\n      <td>True</td>\n    </tr>\n    <tr>\n      <th>2019-09-04 12:24:53.785427+00:00</th>\n      <td>0 days 00:50:12.168657</td>\n      <td>False</td>\n    </tr>\n    <tr>\n      <th>2019-09-04 13:15:05.954084+00:00</th>\n      <td>2 days 17:29:16.799751</td>\n      <td>True</td>\n    </tr>\n    <tr>\n      <th>2019-09-07 06:44:22.753835+00:00</th>\n      <td>0 days 01:43:17.047464</td>\n      <td>False</td>\n    </tr>\n    <tr>\n      <th>2019-09-07 08:27:39.801299+00:00</th>\n      <td>0 days 01:17:29.942821</td>\n      <td>True</td>\n    </tr>\n    <tr>\n      <th>2019-09-07 09:45:09.744120+00:00</th>\n      <td>0 days 03:07:13.057181</td>\n      <td>False</td>\n    </tr>\n    <tr>\n      <th>2019-09-07 12:52:22.801301+00:00</th>\n      <td>0 days 00:37:07.881825</td>\n      <td>True</td>\n    </tr>\n    <tr>\n      <th>2019-09-07 13:29:30.683126+00:00</th>\n      <td>0 days 01:10:50.088300</td>\n      <td>False</td>\n    </tr>\n    <tr>\n      <th>2019-09-07 14:40:20.771426+00:00</th>\n      <td>2 days 17:20:18.109962</td>\n      <td>True</td>\n    </tr>\n    <tr>\n      <th>2019-09-10 08:00:38.881388+00:00</th>\n      <td>0 days 23:17:20.041198</td>\n      <td>False</td>\n    </tr>\n    <tr>\n      <th>2019-09-11 07:17:58.922586+00:00</th>\n      <td>6 days 00:42:14.906382</td>\n      <td>True</td>\n    </tr>\n    <tr>\n      <th>2019-09-17 08:00:13.828968+00:00</th>\n      <td>0 days 22:30:57.021316</td>\n      <td>False</td>\n    </tr>\n    <tr>\n      <th>2019-09-18 06:31:10.850284+00:00</th>\n      <td>6 days 01:28:55.011479</td>\n      <td>True</td>\n    </tr>\n    <tr>\n      <th>2019-09-24 08:00:05.861763+00:00</th>\n      <td>0 days 23:49:32.004376</td>\n      <td>False</td>\n    </tr>\n    <tr>\n      <th>2019-09-25 07:49:37.866139+00:00</th>\n      <td>6 days 00:10:53.036337</td>\n      <td>True</td>\n    </tr>\n    <tr>\n      <th>2019-10-01 08:00:30.902476+00:00</th>\n      <td>1 days 00:21:08.053734</td>\n      <td>False</td>\n    </tr>\n    <tr>\n      <th>2019-10-02 08:21:38.956210+00:00</th>\n      <td>2 days 14:18:36.912475</td>\n      <td>True</td>\n    </tr>\n    <tr>\n      <th>2019-10-04 22:40:15.868685+00:00</th>\n      <td>0 days 00:59:52.998940</td>\n      <td>False</td>\n    </tr>\n    <tr>\n      <th>2019-10-04 23:40:08.867625+00:00</th>\n      <td>0 days 00:12:18.848397</td>\n      <td>True</td>\n    </tr>\n    <tr>\n      <th>2019-10-04 23:52:27.716022+00:00</th>\n      <td>0 days 03:22:19.228771</td>\n      <td>False</td>\n    </tr>\n    <tr>\n      <th>2019-10-05 03:14:46.944793+00:00</th>\n      <td>3 days 04:12:20.800516</td>\n      <td>True</td>\n    </tr>\n    <tr>\n      <th>2019-10-08 07:27:07.745309+00:00</th>\n      <td>0 days 23:15:03.143793</td>\n      <td>False</td>\n    </tr>\n    <tr>\n      <th>2019-10-09 06:42:10.889102+00:00</th>\n      <td>4 days 18:23:32.837764</td>\n      <td>True</td>\n    </tr>\n    <tr>\n      <th>2019-10-14 01:05:43.726866+00:00</th>\n      <td>0 days 01:05:28.123605</td>\n      <td>False</td>\n    </tr>\n    <tr>\n      <th>2019-10-14 02:11:11.850471+00:00</th>\n      <td>1 days 05:48:53.920018</td>\n      <td>True</td>\n    </tr>\n    <tr>\n      <th>2019-10-15 08:00:05.770489+00:00</th>\n      <td>0 days 23:31:45.998553</td>\n      <td>False</td>\n    </tr>\n    <tr>\n      <th>2019-10-16 07:31:51.769042+00:00</th>\n      <td>0 days 00:02:22.990729</td>\n      <td>True</td>\n    </tr>\n    <tr>\n      <th>2019-10-16 07:34:14.759771+00:00</th>\n      <td>0 days 01:28:58.046356</td>\n      <td>False</td>\n    </tr>\n    <tr>\n      <th>2019-10-16 09:03:12.806127+00:00</th>\n      <td>0 days 05:11:30.053568</td>\n      <td>True</td>\n    </tr>\n    <tr>\n      <th>2019-10-16 14:14:42.859695+00:00</th>\n      <td>0 days 00:45:54.042362</td>\n      <td>False</td>\n    </tr>\n    <tr>\n      <th>2019-10-16 15:00:36.902057+00:00</th>\n      <td>NaT</td>\n      <td>True</td>\n    </tr>\n  </tbody>\n</table>\n</div>"
     },
     "metadata": {},
     "output_type": "execute_result",
     "execution_count": 5
    }
   ],
   "source": [
    "periods_machine_shutter_open = get_delta_times(df['machine_shutter'])\n",
    "periods_machine_shutter_open"
   ]
  },
  {
   "cell_type": "code",
   "execution_count": 5,
   "metadata": {
    "pycharm": {
     "is_executing": false
    }
   },
   "outputs": [],
   "source": []
  }
 ],
 "metadata": {
  "kernelspec": {
   "display_name": "Python 3",
   "language": "python",
   "name": "python3"
  },
  "language_info": {
   "codemirror_mode": {
    "name": "ipython",
    "version": 3
   },
   "file_extension": ".py",
   "mimetype": "text/x-python",
   "name": "python",
   "nbconvert_exporter": "python",
   "pygments_lexer": "ipython3",
   "version": "3.7.1"
  }
 },
 "nbformat": 4,
 "nbformat_minor": 2
}